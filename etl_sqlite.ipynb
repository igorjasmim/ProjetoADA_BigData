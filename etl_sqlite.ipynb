{
 "cells": [
  {
   "cell_type": "markdown",
   "metadata": {},
   "source": [
    "## Importar Bibliotecas Necessárias\n",
    "\n",
    "Neste bloco, vamos importar todas as bibliotecas necessárias para realizar operações no banco de dados SQLite e manipular os dados.\n"
   ]
  },
  {
   "cell_type": "code",
   "execution_count": 20,
   "metadata": {},
   "outputs": [],
   "source": [
    "import sqlite3\n",
    "import pandas as pd\n",
    "import os\n",
    "import csv\n",
    "from tabulate import tabulate\n",
    "from IPython.display import display, HTML\n",
    "import time\n",
    "import math"
   ]
  },
  {
   "cell_type": "markdown",
   "metadata": {},
   "source": [
    "## Salvando DataFrame no Banco de Dados SQLite\n",
    "\n",
    "O bloco de código abaixo é responsável por salvar o DataFrame `df` em um banco de dados relacional SQLite. Utilizando a biblioteca `sqlite3`, o DataFrame será salvo em uma tabela no banco de dados. Caso haja algum erro durante o processo, uma mensagem será exibida. Além disso, o código também informa a quantidade de linhas que foram adicionadas no banco de dados e as colunas inseridas."
   ]
  },
  {
   "cell_type": "code",
   "execution_count": 23,
   "metadata": {},
   "outputs": [
    {
     "name": "stdout",
     "output_type": "stream",
     "text": [
      "DataFrame salvo no SQLite com sucesso.\n",
      "Número de linhas adicionadas: 6839104\n",
      "Conexão com o SQLite fechada com sucesso.\n"
     ]
    }
   ],
   "source": [
    "# Caminho para o CSV\n",
    "csv_path = os.path.join('data', 'temas_ambientais.csv')\n",
    "\n",
    "# Caminho para o banco de dados SQLite\n",
    "db_path = os.path.join('banco', 'projeto_big_data.db')\n",
    "\n",
    "# Nome da tabela no SQLite\n",
    "tabela_sqlite = \"temas_ambientais\"\n",
    "\n",
    "# Função para inferir o tipo de dado\n",
    "def inferir_tipo(valor):\n",
    "    try:\n",
    "        int(valor)\n",
    "        return \"INTEGER\"\n",
    "    except ValueError:\n",
    "        try:\n",
    "            float(valor)\n",
    "            if '.' in valor:\n",
    "                return \"DOUBLE\"\n",
    "            return \"REAL\"\n",
    "        except ValueError:\n",
    "            return \"TEXT\"\n",
    "\n",
    "try:\n",
    "    # Conectar ao banco de dados SQLite\n",
    "    conn = sqlite3.connect(db_path)\n",
    "    cursor = conn.cursor()\n",
    "\n",
    "    # Ler o CSV e criar a tabela no SQLite\n",
    "    with open(csv_path, newline='', encoding='utf-8') as csvfile:\n",
    "        csv_reader = csv.reader(csvfile, delimiter=';')\n",
    "        cabecalho = next(csv_reader)  # Ler o cabeçalho\n",
    "\n",
    "        # Inferir os tipos de dados das primeiras linhas\n",
    "        primeira_linha = next(csv_reader)\n",
    "        tipos = [inferir_tipo(valor) for valor in primeira_linha]\n",
    "        \n",
    "        # Criar string de criação de tabela com tipos inferidos\n",
    "        colunas = \", \".join([f\"{col} {tipo}\" for col, tipo in zip(cabecalho, tipos)])\n",
    "        create_table_sql = f\"CREATE TABLE IF NOT EXISTS {tabela_sqlite} ({colunas})\"\n",
    "        cursor.execute(create_table_sql)\n",
    "\n",
    "        # Reiniciar o csv_reader para incluir a primeira linha nos dados\n",
    "        csvfile.seek(0)\n",
    "        csv_reader = csv.reader(csvfile, delimiter=';')\n",
    "        next(csv_reader)  # Pular o cabeçalho novamente\n",
    "\n",
    "        # Inserir as linhas do CSV na tabela SQLite em transações\n",
    "        bloco_tamanho = 1000  # Ajuste conforme necessário\n",
    "        bloco = []\n",
    "        for linha in csv_reader:\n",
    "            bloco.append(linha)\n",
    "            if len(bloco) >= bloco_tamanho:\n",
    "                cursor.executemany(f\"INSERT INTO {tabela_sqlite} VALUES ({', '.join(['?' for _ in cabecalho])})\", bloco)\n",
    "                conn.commit()\n",
    "                bloco = []\n",
    "        \n",
    "        # Inserir quaisquer linhas restantes\n",
    "        if bloco:\n",
    "            cursor.executemany(f\"INSERT INTO {tabela_sqlite} VALUES ({', '.join(['?' for _ in cabecalho])})\", bloco)\n",
    "            conn.commit()\n",
    "\n",
    "    print(\"DataFrame salvo no SQLite com sucesso.\")\n",
    "\n",
    "    # Verificar dados salvos\n",
    "    cursor.execute(f\"SELECT COUNT(*) FROM {tabela_sqlite}\")\n",
    "    numero_de_linhas = cursor.fetchone()[0]\n",
    "    print(f\"Número de linhas adicionadas: {numero_de_linhas}\")\n",
    "\n",
    "except Exception as e:\n",
    "    print(f\"Erro ao salvar no SQLite: {e}\")\n",
    "\n",
    "finally:\n",
    "    # Fechar a conexão com o SQLite\n",
    "    if conn:\n",
    "        conn.close()\n",
    "    print(\"Conexão com o SQLite fechada com sucesso.\")\n"
   ]
  },
  {
   "cell_type": "markdown",
   "metadata": {},
   "source": [
    "## Conectar ao Banco de Dados SQLite\n",
    "\n",
    "Este bloco de código estabelece uma conexão com o banco de dados SQLite onde nosso CSV foi salvo.\n"
   ]
  },
  {
   "cell_type": "code",
   "execution_count": 2,
   "metadata": {},
   "outputs": [
    {
     "name": "stdout",
     "output_type": "stream",
     "text": [
      "Conexão estabelecida com sucesso.\n"
     ]
    }
   ],
   "source": [
    "# Caminho para o banco de dados SQLite\n",
    "db_path = os.path.join('banco', 'projeto_big_data.db')\n",
    "\n",
    "# Conectar ao banco de dados SQLite\n",
    "conn = sqlite3.connect(db_path)\n",
    "print(\"Conexão estabelecida com sucesso.\")"
   ]
  },
  {
   "cell_type": "markdown",
   "metadata": {},
   "source": [
    "## Verificar as Tabelas no Banco de Dados\n",
    "\n",
    "Neste bloco, vamos listar todas as tabelas existentes no banco de dados SQLite.\n"
   ]
  },
  {
   "cell_type": "code",
   "execution_count": 3,
   "metadata": {},
   "outputs": [
    {
     "name": "stdout",
     "output_type": "stream",
     "text": [
      "Tabelas no banco de dados: [('temas_ambientais',)]\n"
     ]
    }
   ],
   "source": [
    "cursor = conn.cursor()\n",
    "cursor.execute(\"SELECT name FROM sqlite_master WHERE type='table';\")\n",
    "tabelas = cursor.fetchall()\n",
    "print(\"Tabelas no banco de dados:\", tabelas)\n"
   ]
  },
  {
   "cell_type": "markdown",
   "metadata": {},
   "source": [
    "## Consulta para Mostrar os Tipos de Cada Coluna\n",
    "\n",
    "Neste bloco de código, vamos utilizar uma consulta SQL para listar os tipos de cada coluna na tabela `temas_ambientais`.\n",
    "\n"
   ]
  },
  {
   "cell_type": "code",
   "execution_count": 4,
   "metadata": {},
   "outputs": [
    {
     "name": "stdout",
     "output_type": "stream",
     "text": [
      "+------+------------------------------------------+---------+------------+----------------+------------------+\n",
      "|   ID | Nome                                     | Tipo    |   Não Nulo | Valor Padrão   |   Chave Primária |\n",
      "|------+------------------------------------------+---------+------------+----------------+------------------|\n",
      "|    0 | uf                                       | TEXT    |          0 |                |                0 |\n",
      "|    1 | municipio                                | TEXT    |          0 |                |                0 |\n",
      "|    2 | codigo_ibge                              | INTEGER |          0 |                |                0 |\n",
      "|    3 | area_do_imovel                           | DOUBLE  |          0 |                |                0 |\n",
      "|    4 | registro_car                             | TEXT    |          0 |                |                0 |\n",
      "|    5 | situacao_cadastro                        | TEXT    |          0 |                |                0 |\n",
      "|    6 | condicao_cadastro                        | TEXT    |          0 |                |                0 |\n",
      "|    7 | area_liquida                             | DOUBLE  |          0 |                |                0 |\n",
      "|    8 | area_remanescente_vegetacao_nativa       | DOUBLE  |          0 |                |                0 |\n",
      "|    9 | area_reserva_legal_proposta              | DOUBLE  |          0 |                |                0 |\n",
      "|   10 | area_preservacao_permanente              | DOUBLE  |          0 |                |                0 |\n",
      "|   11 | area_nao_classificada                    | DOUBLE  |          0 |                |                0 |\n",
      "|   12 | solicitacao_adesao_pra                   | TEXT    |          0 |                |                0 |\n",
      "|   13 | latitude                                 | DOUBLE  |          0 |                |                0 |\n",
      "|   14 | longitude                                | DOUBLE  |          0 |                |                0 |\n",
      "|   15 | data_inscricao                           | TEXT    |          0 |                |                0 |\n",
      "|   16 | data_alteracao_condicao_cadastro         | TEXT    |          0 |                |                0 |\n",
      "|   17 | area_rural_consolidada                   | DOUBLE  |          0 |                |                0 |\n",
      "|   18 | area_servidao_administrativa             | INTEGER |          0 |                |                0 |\n",
      "|   19 | tipo_imovel_rural                        | TEXT    |          0 |                |                0 |\n",
      "|   20 | modulos_fiscais                          | DOUBLE  |          0 |                |                0 |\n",
      "|   21 | area_uso_restrito                        | INTEGER |          0 |                |                0 |\n",
      "|   22 | area_reserva_legal_averbada              | DOUBLE  |          0 |                |                0 |\n",
      "|   23 | area_reserva_legal_aprovada_nao_averbada | DOUBLE  |          0 |                |                0 |\n",
      "|   24 | area_pousio                              | INTEGER |          0 |                |                0 |\n",
      "|   25 | data_ultima_retificacao                  | TEXT    |          0 |                |                0 |\n",
      "+------+------------------------------------------+---------+------------+----------------+------------------+\n",
      "Conexão com o SQLite fechada com sucesso.\n"
     ]
    }
   ],
   "source": [
    "# Conectar ao banco de dados SQLite\n",
    "conn = sqlite3.connect(db_path)\n",
    "cursor = conn.cursor()\n",
    "\n",
    "# Consulta SQL para listar os tipos de cada coluna na tabela\n",
    "query = \"PRAGMA table_info(temas_ambientais);\"\n",
    "\n",
    "# Executar a consulta\n",
    "cursor.execute(query)\n",
    "resultados = cursor.fetchall()\n",
    "\n",
    "# Exibir os resultados de forma tabulada\n",
    "colunas_tabela_info = [\"ID\", \"Nome\", \"Tipo\", \"Não Nulo\", \"Valor Padrão\", \"Chave Primária\"]\n",
    "print(tabulate(resultados, headers=colunas_tabela_info, tablefmt='psql'))\n",
    "\n",
    "# Fechar a conexão com o banco de dados SQLite\n",
    "conn.close()\n",
    "print(\"Conexão com o SQLite fechada com sucesso.\")\n"
   ]
  },
  {
   "cell_type": "markdown",
   "metadata": {},
   "source": [
    "## Visualizar os Dados da Tabela\n",
    "\n",
    "Aqui, vamos visualizar os primeiros registros da tabela `temas_ambientais`.\n"
   ]
  },
  {
   "cell_type": "code",
   "execution_count": 6,
   "metadata": {},
   "outputs": [
    {
     "data": {
      "text/html": [
       "<table><tr><th>uf</th><th>municipio</th><th>codigo_ibge</th><th>area_do_imovel</th><th>registro_car</th><th>situacao_cadastro</th><th>condicao_cadastro</th><th>area_liquida</th><th>area_remanescente_vegetacao_nativa</th><th>area_reserva_legal_proposta</th><th>area_preservacao_permanente</th><th>area_nao_classificada</th><th>solicitacao_adesao_pra</th><th>latitude</th><th>longitude</th><th>data_inscricao</th><th>data_alteracao_condicao_cadastro</th><th>area_rural_consolidada</th><th>area_servidao_administrativa</th><th>tipo_imovel_rural</th><th>modulos_fiscais</th><th>area_uso_restrito</th><th>area_reserva_legal_averbada</th><th>area_reserva_legal_aprovada_nao_averbada</th><th>area_pousio</th><th>data_ultima_retificacao</th></tr><tr><td>GO</td><td>Nazário</td><td>5214408</td><td>119.6326</td><td>GO-5214408-3AEF2043582E40238C0F84A553686CA7</td><td>AT</td><td>Analisado com pendências, aguardando retificação e/ou apresentação de documentos</td><td>119.6326</td><td>6.43202795367569</td><td>6.432</td><td>5.29751084282892</td><td>0.00102295610380904</td><td>Sim</td><td>-16.5923058689987</td><td>-49.9019017039191</td><td>2014-05-07 16:01:44.305</td><td></td><td>112.301149046683</td><td>0</td><td>IRU</td><td>5.4378</td><td>0</td><td>0.0</td><td>0.0</td><td>0</td><td>2014-05-07 16:01:44.305</td></tr><tr><td>SC</td><td>Meleiro</td><td>4210803</td><td>7.534</td><td>SC-4210803-BC127B0EC8DB49AC9D46D723286241A2</td><td>AT</td><td>Aguardando análise, não passível de revisão de dados</td><td>7.534</td><td>5.51785410336982</td><td>0.0</td><td>0.0</td><td>0.00159349317984888</td><td>Nao</td><td>-28.7930798512303</td><td>-49.6472023744097</td><td>2014-05-07 16:02:02.915</td><td></td><td>2.01445162492469</td><td>0</td><td>IRU</td><td>0.4186</td><td>0</td><td>1.506</td><td>0.0</td><td>0</td><td>2014-05-07 16:02:02.915</td></tr><tr><td>GO</td><td>Nova Roma</td><td>5214903</td><td>19.4883</td><td>GO-5214903-7F58049BD79046E9A904CC81C5AC177A</td><td>PE</td><td>Analisado com pendências, aguardando retificação e/ou apresentação de documentos</td><td>19.36</td><td>19.4882633569717</td><td>3.872</td><td>0.0</td><td>0.0</td><td>Nao</td><td>-13.6370551503248</td><td>-47.0339670619739</td><td>2014-05-07 16:06:15.777</td><td></td><td>0.0</td><td>0</td><td>IRU</td><td>0.2784</td><td>0</td><td>0.0</td><td>0.0</td><td>0</td><td>2014-05-07 16:06:15.777</td></tr><tr><td>GO</td><td>Santa Helena de Goiás</td><td>5219308</td><td>22.934</td><td>GO-5219308-6478196E75CF4F65800ACA0758575820</td><td>PE</td><td>Analisado com pendências, aguardando retificação</td><td>22.88</td><td>1.5021496193707</td><td>1.5028</td><td>0.568927694143718</td><td>18.2335997514784</td><td>Sim</td><td>-17.8327877579625</td><td>-50.6015145422339</td><td>2014-05-07 17:49:36.938</td><td></td><td>3.08289042473435</td><td>0</td><td>IRU</td><td>1.1467</td><td>0</td><td>0.0</td><td>0.0</td><td>0</td><td>2014-05-07 17:49:36.938</td></tr><tr><td>PR</td><td>Cornélio Procópio</td><td>4106407</td><td>10.956</td><td>PR-4106407-0F06081500254BE3A479EE8EFFDD5319</td><td>AT</td><td>Em análise</td><td>10.956</td><td>0.0</td><td>0.0</td><td>0.0</td><td>0.161657419734154</td><td>Nao</td><td>-23.1841101335722</td><td>-50.6715645967419</td><td>2014-05-07 17:52:55.333</td><td></td><td>10.7942669028953</td><td>0</td><td>IRU</td><td>0.6087</td><td>0</td><td>0.0</td><td>0.0</td><td>0</td><td>2014-05-07 17:52:55.333</td></tr></table>"
      ],
      "text/plain": [
       "<IPython.core.display.HTML object>"
      ]
     },
     "metadata": {},
     "output_type": "display_data"
    },
    {
     "name": "stdout",
     "output_type": "stream",
     "text": [
      "Conexão com o SQLite fechada com sucesso.\n"
     ]
    }
   ],
   "source": [
    "# Conectar ao banco de dados SQLite\n",
    "conn = sqlite3.connect(db_path)\n",
    "cursor = conn.cursor()\n",
    "\n",
    "# Query para selecionar os primeiros 10 registros\n",
    "query = \"SELECT * FROM temas_ambientais LIMIT 5;\"\n",
    "\n",
    "# Executar a query\n",
    "cursor.execute(query)\n",
    "resultados = cursor.fetchall()\n",
    "\n",
    "# Obter os nomes das colunas\n",
    "colunas = [description[0] for description in cursor.description]\n",
    "\n",
    "# Formatar os resultados como uma tabela HTML\n",
    "tabela_html = \"<table>\"\n",
    "tabela_html += \"<tr>\" + \"\".join([f\"<th>{col}</th>\" for col in colunas]) + \"</tr>\"\n",
    "for linha in resultados:\n",
    "    tabela_html += \"<tr>\" + \"\".join([f\"<td>{item}</td>\" for item in linha]) + \"</tr>\"\n",
    "tabela_html += \"</table>\"\n",
    "\n",
    "# Exibir a tabela HTML\n",
    "display(HTML(tabela_html))\n",
    "\n",
    "# Fechar a conexão com o SQLite\n",
    "conn.close()\n",
    "print(\"Conexão com o SQLite fechada com sucesso.\")\n"
   ]
  },
  {
   "cell_type": "markdown",
   "metadata": {},
   "source": [
    "## Primeira Consulta \n",
    "\n",
    "Recupere a soma de área que é a coluna \"Area Do Imovel\" para todas as propriedades agrícolas que pertecem ao MS e MT que estão na coluna \"Uf\". Ordene o resultado em ordem descrescente.\n"
   ]
  },
  {
   "cell_type": "code",
   "execution_count": 12,
   "metadata": {},
   "outputs": [
    {
     "data": {
      "text/html": [
       "<table><tr><th>uf</th><th>soma_area</th></tr><tr><td>MT</td><td>84587089.26979955</td></tr><tr><td>MS</td><td>36321882.66120003</td></tr></table>"
      ],
      "text/plain": [
       "<IPython.core.display.HTML object>"
      ]
     },
     "metadata": {},
     "output_type": "display_data"
    },
    {
     "name": "stdout",
     "output_type": "stream",
     "text": [
      "Tempo de execução da consulta: 6.16 segundos\n",
      "Conexão com o SQLite fechada com sucesso.\n"
     ]
    }
   ],
   "source": [
    "# Conectar ao banco de dados SQLite\n",
    "conn = sqlite3.connect(db_path)\n",
    "cursor = conn.cursor()\n",
    "\n",
    "# Consulta SQL para recuperar a soma de área para MS e MT\n",
    "query = \"\"\"\n",
    "SELECT \"uf\", SUM(\"area_do_imovel\") AS soma_area\n",
    "FROM temas_ambientais\n",
    "WHERE \"Uf\" IN ('MS', 'MT')\n",
    "GROUP BY \"Uf\"\n",
    "ORDER BY soma_area DESC;\n",
    "\"\"\"\n",
    "\n",
    "# Medir o tempo de execução da consulta\n",
    "tempo_inicio = time.time()\n",
    "\n",
    "# Executar a consulta\n",
    "cursor.execute(query)\n",
    "resultados = cursor.fetchall()\n",
    "\n",
    "tempo_execucao = time.time() - tempo_inicio\n",
    "\n",
    "# Obter os nomes das colunas\n",
    "colunas = [description[0] for description in cursor.description]\n",
    "\n",
    "# Formatar os resultados como uma tabela HTML\n",
    "tabela_html = \"<table>\"\n",
    "tabela_html += \"<tr>\" + \"\".join([f\"<th>{col}</th>\" for col in colunas]) + \"</tr>\"\n",
    "for linha in resultados:\n",
    "    tabela_html += \"<tr>\" + \"\".join([f\"<td>{item}</td>\" for item in linha]) + \"</tr>\"\n",
    "tabela_html += \"</table>\"\n",
    "\n",
    "# Exibir a tabela HTML\n",
    "display(HTML(tabela_html))\n",
    "\n",
    "# Exibir o tempo de execução da consulta\n",
    "print(f\"Tempo de execução da consulta: {tempo_execucao:.2f} segundos\")\n",
    "\n",
    "# Fechar a conexão com o banco de dados SQLite\n",
    "conn.close()\n",
    "print(\"Conexão com o SQLite fechada com sucesso.\")"
   ]
  },
  {
   "cell_type": "markdown",
   "metadata": {},
   "source": [
    "## Segunda Consulta \n",
    "\n",
    "Filtrar todas as propriedades que pertencem à região sudeste do Brasil. Os estados da região sudeste são SP, RJ, MG e ES, conforme indicado na coluna \"Uf\".\n"
   ]
  },
  {
   "cell_type": "code",
   "execution_count": 24,
   "metadata": {},
   "outputs": [
    {
     "data": {
      "text/html": [
       "<table><tr><th>uf</th><th>municipio</th><th>codigo_ibge</th><th>area_do_imovel</th><th>registro_car</th><th>situacao_cadastro</th><th>condicao_cadastro</th><th>area_liquida</th><th>area_remanescente_vegetacao_nativa</th><th>area_reserva_legal_proposta</th><th>area_preservacao_permanente</th><th>area_nao_classificada</th><th>solicitacao_adesao_pra</th><th>latitude</th><th>longitude</th><th>data_inscricao</th><th>data_alteracao_condicao_cadastro</th><th>area_rural_consolidada</th><th>area_servidao_administrativa</th><th>tipo_imovel_rural</th><th>modulos_fiscais</th><th>area_uso_restrito</th><th>area_reserva_legal_averbada</th><th>area_reserva_legal_aprovada_nao_averbada</th><th>area_pousio</th><th>data_ultima_retificacao</th></tr><tr><td>RJ</td><td>Itaperuna</td><td>3302205</td><td>6.0851</td><td>RJ-3302205-169354AD04A446EC9AB27A79E4310489</td><td>PE</td><td>Analisado com pendências, aguardando retificação</td><td>5.931</td><td>0.0</td><td>1.4792</td><td>1.61754906789992</td><td>5.83886665807348</td><td>Sim</td><td>-21.3214432276222</td><td>-41.80444759989</td><td>2014-05-08 11:02:20.455</td><td></td><td>0.0501235222115647</td><td>0.1619</td><td>IRU</td><td>0.2028</td><td>0</td><td>0.0</td><td>0.0</td><td>4.33622302031857</td><td>2014-05-08 11:02:20.455</td></tr><tr><td>RJ</td><td>Itaperuna</td><td>3302205</td><td>44.4215</td><td>RJ-3302205-1DEA0210F20F4ECEBADF8585534E9177</td><td>PE</td><td>Analisado com pendências, aguardando retificação</td><td>43.3195</td><td>0.0</td><td>8.8523</td><td>11.0546352649015</td><td>40.9607595756084</td><td>Sim</td><td>-21.3400673460579</td><td>-41.6868689432052</td><td>2014-05-08 12:03:58.024</td><td></td><td>0.113328063728078</td><td>1.1514</td><td>IRU</td><td>1.4807</td><td>0</td><td>0.0</td><td>0.0</td><td>31.9864053125698</td><td>2014-05-08 12:03:58.024</td></tr><tr><td>RJ</td><td>Itaperuna</td><td>3302205</td><td>0.4112</td><td>RJ-3302205-8ACBE3784F13410A9835E85EB743E95B</td><td>PE</td><td>Analisado com pendências, aguardando retificação e/ou apresentação de documentos</td><td>0.4118</td><td>0.0</td><td>0.084</td><td>0.330845682804729</td><td>0.0880945837435553</td><td>Sim</td><td>-21.152467193082</td><td>-41.9706779504834</td><td>2014-05-08 17:23:27.499</td><td></td><td>0.262559143783042</td><td>0</td><td>IRU</td><td>0.0137</td><td>0</td><td>0.0</td><td>0.0</td><td>0</td><td>2014-05-08 17:23:27.499</td></tr><tr><td>RJ</td><td>Rio Bonito</td><td>3304300</td><td>93.9777</td><td>RJ-3304300-66B9CE428807488391B38ACFBDCF1DBD</td><td>AT</td><td>Em análise</td><td>93.9777</td><td>38.3784881475703</td><td>20.2016</td><td>12.7393563370317</td><td>52.554476232823</td><td>Sim</td><td>-22.6971257840924</td><td>-42.5851337250361</td><td>2014-05-08 17:37:03.403</td><td></td><td>0.0</td><td>0</td><td>IRU</td><td>6.7127</td><td>0</td><td>0.0</td><td>0.0</td><td>0</td><td>2014-05-08 17:37:03.403</td></tr><tr><td>MG</td><td>Sabará</td><td>3156700</td><td>2.39</td><td>MG-3156700-A61D7CC1D7994BFE939ACC2D69CCA87A</td><td>AT</td><td>Aguardando análise, não passível de revisão de dados</td><td>2.39</td><td>0.0</td><td>0.0</td><td>0.0</td><td>2.38938456031024</td><td>Nao</td><td>-19.9113811223832</td><td>-43.8032291425663</td><td>2014-05-10 09:04:55.377</td><td></td><td>0.0</td><td>0</td><td>IRU</td><td>0.34</td><td>0</td><td>0.0</td><td>0.0</td><td>0</td><td>2014-05-10 09:04:55.377</td></tr></table>"
      ],
      "text/plain": [
       "<IPython.core.display.HTML object>"
      ]
     },
     "metadata": {},
     "output_type": "display_data"
    },
    {
     "name": "stdout",
     "output_type": "stream",
     "text": [
      "Tempo de execução da consulta: 0.97 segundos\n",
      "Conexão com o SQLite fechada com sucesso.\n"
     ]
    }
   ],
   "source": [
    "# Conectar ao banco de dados SQLite\n",
    "conn = sqlite3.connect(db_path)\n",
    "cursor = conn.cursor()\n",
    "\n",
    "# Consulta SQL para filtrar as propriedades da região sudeste\n",
    "query = \"\"\"\n",
    "SELECT *\n",
    "FROM temas_ambientais\n",
    "WHERE \"uf\" IN ('SP', 'RJ', 'MG', 'ES') LIMIT 5;\n",
    "\"\"\"\n",
    "\n",
    "# Medir o tempo de execução da consulta\n",
    "tempo_inicio = time.time()\n",
    "\n",
    "# Executar a consulta\n",
    "cursor.execute(query)\n",
    "resultados = cursor.fetchall()\n",
    "\n",
    "tempo_execucao = time.time() - tempo_inicio\n",
    "\n",
    "# Obter os nomes das colunas\n",
    "colunas = [description[0] for description in cursor.description]\n",
    "\n",
    "# Formatar os resultados como uma tabela HTML\n",
    "tabela_html = \"<table>\"\n",
    "tabela_html += \"<tr>\" + \"\".join([f\"<th>{col}</th>\" for col in colunas]) + \"</tr>\"\n",
    "for linha in resultados:\n",
    "    tabela_html += \"<tr>\" + \"\".join([f\"<td>{item}</td>\" for item in linha]) + \"</tr>\"\n",
    "tabela_html += \"</table>\"\n",
    "\n",
    "# Exibir a tabela HTML\n",
    "display(HTML(tabela_html))\n",
    "\n",
    "# Exibir o tempo de execução da consulta\n",
    "print(f\"Tempo de execução da consulta: {tempo_execucao:.2f} segundos\")\n",
    "\n",
    "# Fechar a conexão com o banco de dados SQLite\n",
    "conn.close()\n",
    "print(\"Conexão com o SQLite fechada com sucesso.\")\n"
   ]
  },
  {
   "cell_type": "markdown",
   "metadata": {},
   "source": [
    "## Terceira Consulta \n",
    "\n",
    "Calcular quantas propriedades foram cadastradas por ano, utilizando a coluna `data_inscricao` e agrupando por ano. Exibiremos somente as colunas que não são vazias.\n"
   ]
  },
  {
   "cell_type": "code",
   "execution_count": 17,
   "metadata": {},
   "outputs": [
    {
     "data": {
      "text/html": [
       "<table><tr><th>ano</th><th>total_propriedades</th></tr><tr><td>2013</td><td>743</td></tr><tr><td>2014</td><td>227468</td></tr><tr><td>2015</td><td>1240178</td></tr><tr><td>2016</td><td>1828786</td></tr><tr><td>2017</td><td>794779</td></tr><tr><td>2018</td><td>724856</td></tr><tr><td>2019</td><td>746570</td></tr><tr><td>2020</td><td>463322</td></tr><tr><td>2021</td><td>443942</td></tr><tr><td>2022</td><td>368448</td></tr></table>"
      ],
      "text/plain": [
       "<IPython.core.display.HTML object>"
      ]
     },
     "metadata": {},
     "output_type": "display_data"
    },
    {
     "name": "stdout",
     "output_type": "stream",
     "text": [
      "Tempo de execução da consulta: 14.13 segundos\n",
      "Conexão com o SQLite fechada com sucesso.\n"
     ]
    }
   ],
   "source": [
    "# Conectar ao banco de dados SQLite\n",
    "conn = sqlite3.connect(db_path)\n",
    "cursor = conn.cursor()\n",
    "\n",
    "# Consulta SQL para calcular quantas propriedades foram cadastradas por ano\n",
    "query = \"\"\"\n",
    "SELECT strftime('%Y', data_inscricao) AS ano, COUNT(*) AS total_propriedades\n",
    "FROM temas_ambientais\n",
    "WHERE data_inscricao IS NOT NULL\n",
    "GROUP BY ano\n",
    "HAVING ano IS NOT NULL\n",
    "ORDER BY ano;\n",
    "\"\"\"\n",
    "\n",
    "# Medir o tempo de execução da consulta\n",
    "tempo_inicio = time.time()\n",
    "\n",
    "# Executar a consulta\n",
    "cursor.execute(query)\n",
    "resultados = cursor.fetchall()\n",
    "\n",
    "tempo_execucao = time.time() - tempo_inicio\n",
    "\n",
    "# Obter os nomes das colunas\n",
    "colunas = [description[0] for description in cursor.description]\n",
    "\n",
    "# Formatar os resultados como uma tabela HTML\n",
    "tabela_html = \"<table>\"\n",
    "tabela_html += \"<tr>\" + \"\".join([f\"<th>{col}</th>\" for col in colunas]) + \"</tr>\"\n",
    "for linha in resultados:\n",
    "    tabela_html += \"<tr>\" + \"\".join([f\"<td>{item}</td>\" for item in linha]) + \"</tr>\"\n",
    "tabela_html += \"</table>\"\n",
    "\n",
    "# Exibir a tabela HTML\n",
    "display(HTML(tabela_html))\n",
    "\n",
    "# Exibir o tempo de execução da consulta\n",
    "print(f\"Tempo de execução da consulta: {tempo_execucao:.2f} segundos\")\n",
    "\n",
    "# Fechar a conexão com o banco de dados SQLite\n",
    "conn.close()\n",
    "print(\"Conexão com o SQLite fechada com sucesso.\")\n"
   ]
  },
  {
   "cell_type": "markdown",
   "metadata": {},
   "source": [
    "## Quarta Consulta\n",
    "\n",
    "Calcular o percentual médio de área remanescente de vegetação nativa (`area_remanescente_vegetacao_nativa`) em relação à área total do proprietário (`area_do_imovel`).\n"
   ]
  },
  {
   "cell_type": "code",
   "execution_count": 18,
   "metadata": {},
   "outputs": [
    {
     "data": {
      "text/html": [
       "<table><tr><th>percentual_medio</th></tr><tr><td>17.93%</td></tr></table>"
      ],
      "text/plain": [
       "<IPython.core.display.HTML object>"
      ]
     },
     "metadata": {},
     "output_type": "display_data"
    },
    {
     "name": "stdout",
     "output_type": "stream",
     "text": [
      "Tempo de execução da consulta: 5.99 segundos\n",
      "Conexão com o SQLite fechada com sucesso.\n"
     ]
    }
   ],
   "source": [
    "# Conectar ao banco de dados SQLite\n",
    "conn = sqlite3.connect(db_path)\n",
    "cursor = conn.cursor()\n",
    "\n",
    "# Consulta SQL para calcular o percentual médio de área remanescente de vegetação nativa\n",
    "query = \"\"\"\n",
    "SELECT AVG((area_remanescente_vegetacao_nativa / area_do_imovel) * 100) AS percentual_medio\n",
    "FROM temas_ambientais\n",
    "WHERE area_remanescente_vegetacao_nativa IS NOT NULL AND area_do_imovel IS NOT NULL;\n",
    "\"\"\"\n",
    "\n",
    "# Medir o tempo de execução da consulta\n",
    "tempo_inicio = time.time()\n",
    "\n",
    "# Executar a consulta\n",
    "cursor.execute(query)\n",
    "resultados = cursor.fetchall()\n",
    "\n",
    "tempo_execucao = time.time() - tempo_inicio\n",
    "\n",
    "# Obter os nomes das colunas\n",
    "colunas = [description[0] for description in cursor.description]\n",
    "\n",
    "# Formatar os resultados como uma tabela HTML\n",
    "tabela_html = \"<table>\"\n",
    "tabela_html += \"<tr>\" + \"\".join([f\"<th>{col}</th>\" for col in colunas]) + \"</tr>\"\n",
    "for linha in resultados:\n",
    "    tabela_html += \"<tr>\" + \"\".join([f\"<td>{item:.2f}%</td>\" for item in linha]) + \"</tr>\"\n",
    "tabela_html += \"</table>\"\n",
    "\n",
    "# Exibir a tabela HTML\n",
    "display(HTML(tabela_html))\n",
    "\n",
    "# Exibir o tempo de execução da consulta\n",
    "print(f\"Tempo de execução da consulta: {tempo_execucao:.2f} segundos\")\n",
    "\n",
    "# Fechar a conexão com o banco de dados SQLite\n",
    "conn.close()\n",
    "print(\"Conexão com o SQLite fechada com sucesso.\")\n"
   ]
  },
  {
   "cell_type": "markdown",
   "metadata": {},
   "source": [
    "## Quinta Consulta \n",
    "\n",
    "Contar o número de propriedades rurais por estado, utilizando a coluna `uf`.\n"
   ]
  },
  {
   "cell_type": "code",
   "execution_count": 19,
   "metadata": {},
   "outputs": [
    {
     "data": {
      "text/html": [
       "<table><tr><th>uf</th><th>total_propriedades</th></tr><tr><td>BA</td><td>1012499</td></tr><tr><td>MG</td><td>989446</td></tr><tr><td>RS</td><td>606454</td></tr><tr><td>PR</td><td>496164</td></tr><tr><td>SP</td><td>408528</td></tr><tr><td>SC</td><td>374918</td></tr><tr><td>PE</td><td>339371</td></tr><tr><td>CE</td><td>314866</td></tr><tr><td>PA</td><td>279598</td></tr><tr><td>MA</td><td>273642</td></tr><tr><td>PI</td><td>255052</td></tr><tr><td>GO</td><td>199690</td></tr><tr><td>PB</td><td>170851</td></tr><tr><td>MT</td><td>170205</td></tr><tr><td>RO</td><td>147287</td></tr><tr><td>AL</td><td>114610</td></tr><tr><td>ES</td><td>108849</td></tr><tr><td>SE</td><td>94418</td></tr><tr><td>RN</td><td>89357</td></tr><tr><td>TO</td><td>85537</td></tr><tr><td>MS</td><td>79914</td></tr><tr><td>AM</td><td>73642</td></tr><tr><td>RJ</td><td>58923</td></tr><tr><td>AC</td><td>45141</td></tr><tr><td>RR</td><td>22687</td></tr><tr><td>DF</td><td>17339</td></tr><tr><td>AP</td><td>10116</td></tr></table>"
      ],
      "text/plain": [
       "<IPython.core.display.HTML object>"
      ]
     },
     "metadata": {},
     "output_type": "display_data"
    },
    {
     "name": "stdout",
     "output_type": "stream",
     "text": [
      "Tempo de execução da consulta: 8.58 segundos\n",
      "Conexão com o SQLite fechada com sucesso.\n"
     ]
    }
   ],
   "source": [
    "# Conectar ao banco de dados SQLite\n",
    "conn = sqlite3.connect(db_path)\n",
    "cursor = conn.cursor()\n",
    "\n",
    "# Consulta SQL para contar o número de propriedades rurais por estado\n",
    "query = \"\"\"\n",
    "SELECT \"uf\", COUNT(*) AS total_propriedades\n",
    "FROM temas_ambientais\n",
    "GROUP BY \"uf\"\n",
    "ORDER BY total_propriedades DESC;\n",
    "\"\"\"\n",
    "\n",
    "# Medir o tempo de execução da consulta\n",
    "tempo_inicio = time.time()\n",
    "\n",
    "# Executar a consulta\n",
    "cursor.execute(query)\n",
    "resultados = cursor.fetchall()\n",
    "\n",
    "tempo_execucao = time.time() - tempo_inicio\n",
    "\n",
    "# Obter os nomes das colunas\n",
    "colunas = [description[0] for description in cursor.description]\n",
    "\n",
    "# Formatar os resultados como uma tabela HTML\n",
    "tabela_html = \"<table>\"\n",
    "tabela_html += \"<tr>\" + \"\".join([f\"<th>{col}</th>\" for col in colunas]) + \"</tr>\"\n",
    "for linha in resultados:\n",
    "    tabela_html += \"<tr>\" + \"\".join([f\"<td>{item}</td>\" for item in linha]) + \"</tr>\"\n",
    "tabela_html += \"</table>\"\n",
    "\n",
    "# Exibir a tabela HTML\n",
    "display(HTML(tabela_html))\n",
    "\n",
    "# Exibir o tempo de execução da consulta\n",
    "print(f\"Tempo de execução da consulta: {tempo_execucao:.2f} segundos\")\n",
    "\n",
    "# Fechar a conexão com o banco de dados SQLite\n",
    "conn.close()\n",
    "print(\"Conexão com o SQLite fechada com sucesso.\")\n"
   ]
  },
  {
   "cell_type": "markdown",
   "metadata": {},
   "source": [
    "## Sexta Consulta \n",
    "\n",
    "Calcular a distância entre a maior propriedade (coluna `area_do_imovel`) e Brasília, utilizando as coordenadas de centróide da propriedade nas colunas `latitude` e `longitude`.\n",
    "\n",
    "**Usaremos a fórmula de Haversine para calcular a distância entre dois pontos geográficos.**\n"
   ]
  },
  {
   "cell_type": "code",
   "execution_count": 21,
   "metadata": {},
   "outputs": [
    {
     "data": {
      "text/html": [
       "\n",
       "<table>\n",
       "    <tr><th>Latitude</th><td>-5.47561883060412</td></tr>\n",
       "    <tr><th>Longitude</th><td>-68.8881881087452</td></tr>\n",
       "    <tr><th>Área do Imóvel</th><td>2420078.7379</td></tr>\n",
       "    <tr><th>Distância até Brasília (km)</th><td>2560.56 km</td></tr>\n",
       "</table>\n"
      ],
      "text/plain": [
       "<IPython.core.display.HTML object>"
      ]
     },
     "metadata": {},
     "output_type": "display_data"
    },
    {
     "name": "stdout",
     "output_type": "stream",
     "text": [
      "Tempo de execução da consulta: 5.62 segundos\n",
      "Conexão com o SQLite fechada com sucesso.\n"
     ]
    }
   ],
   "source": [
    "# Função para calcular a distância usando a fórmula de Haversine\n",
    "def haversine(lat1, lon1, lat2, lon2):\n",
    "    # Converter graus para radianos\n",
    "    lat1, lon1, lat2, lon2 = map(math.radians, [lat1, lon1, lat2, lon2])\n",
    "    \n",
    "    # Fórmula de Haversine\n",
    "    dlat = lat2 - lat1\n",
    "    dlon = lon2 - lon1\n",
    "    a = math.sin(dlat / 2)**2 + math.cos(lat1) * math.cos(lat2) * math.sin(dlon / 2)**2\n",
    "    c = 2 * math.asin(math.sqrt(a))\n",
    "    \n",
    "    # Raio da Terra em quilômetros (varia entre 6,371 e 6,378 km)\n",
    "    r = 6371.0\n",
    "    return c * r\n",
    "\n",
    "# Conectar ao banco de dados SQLite\n",
    "conn = sqlite3.connect(db_path)\n",
    "cursor = conn.cursor()\n",
    "\n",
    "# Consulta SQL para obter a propriedade com a maior área\n",
    "query_maior_propriedade = \"\"\"\n",
    "SELECT latitude, longitude, area_do_imovel\n",
    "FROM temas_ambientais\n",
    "ORDER BY area_do_imovel DESC\n",
    "LIMIT 1;\n",
    "\"\"\"\n",
    "\n",
    "# Medir o tempo de execução da consulta\n",
    "tempo_inicio = time.time()\n",
    "\n",
    "# Executar a consulta\n",
    "cursor.execute(query_maior_propriedade)\n",
    "maior_propriedade = cursor.fetchone()\n",
    "\n",
    "# Coordenadas de Brasília (lat: -15.8267, lon: -47.9218)\n",
    "latitude_brasilia = -15.8267\n",
    "longitude_brasilia = -47.9218\n",
    "\n",
    "# Calcular a distância usando a fórmula de Haversine\n",
    "distancia = haversine(maior_propriedade[0], maior_propriedade[1], latitude_brasilia, longitude_brasilia)\n",
    "\n",
    "tempo_execucao = time.time() - tempo_inicio\n",
    "\n",
    "# Formatar o resultado como uma tabela HTML\n",
    "tabela_html = f\"\"\"\n",
    "<table>\n",
    "    <tr><th>Latitude</th><td>{maior_propriedade[0]}</td></tr>\n",
    "    <tr><th>Longitude</th><td>{maior_propriedade[1]}</td></tr>\n",
    "    <tr><th>Área do Imóvel</th><td>{maior_propriedade[2]}</td></tr>\n",
    "    <tr><th>Distância até Brasília (km)</th><td>{distancia:.2f} km</td></tr>\n",
    "</table>\n",
    "\"\"\"\n",
    "\n",
    "# Exibir a tabela HTML\n",
    "display(HTML(tabela_html))\n",
    "\n",
    "# Exibir o tempo de execução da consulta\n",
    "print(f\"Tempo de execução da consulta: {tempo_execucao:.2f} segundos\")\n",
    "\n",
    "# Fechar a conexão com o banco de dados SQLite\n",
    "conn.close()\n",
    "print(\"Conexão com o SQLite fechada com sucesso.\")\n"
   ]
  },
  {
   "cell_type": "markdown",
   "metadata": {},
   "source": [
    "## Sétima Consulta \n",
    "\n",
    "Calcular a média de todas as propriedades (`area_do_imovel`) e, em seguida, determinar quantas propriedades por estado estão acima da média (`uf`).\n",
    "\n",
    "**Vamos usar GROUP BY para agrupar os estados e contar as propriedades acima da média.**\n"
   ]
  },
  {
   "cell_type": "code",
   "execution_count": 22,
   "metadata": {},
   "outputs": [
    {
     "data": {
      "text/html": [
       "<table><tr><th>uf</th><th>total_acima_media</th></tr><tr><td>MG</td><td>107875</td></tr><tr><td>PA</td><td>86698</td></tr><tr><td>MT</td><td>78569</td></tr><tr><td>GO</td><td>61385</td></tr><tr><td>BA</td><td>50508</td></tr><tr><td>SP</td><td>45229</td></tr><tr><td>MA</td><td>42202</td></tr><tr><td>RS</td><td>40274</td></tr><tr><td>MS</td><td>33762</td></tr><tr><td>TO</td><td>33389</td></tr><tr><td>RO</td><td>32665</td></tr><tr><td>PR</td><td>32005</td></tr><tr><td>PI</td><td>27223</td></tr><tr><td>CE</td><td>22931</td></tr><tr><td>AM</td><td>21412</td></tr><tr><td>PE</td><td>12274</td></tr><tr><td>SC</td><td>10667</td></tr><tr><td>AC</td><td>10559</td></tr><tr><td>RR</td><td>8532</td></tr><tr><td>PB</td><td>8309</td></tr><tr><td>RN</td><td>7519</td></tr><tr><td>ES</td><td>6378</td></tr><tr><td>RJ</td><td>6326</td></tr><tr><td>AP</td><td>3759</td></tr><tr><td>AL</td><td>3641</td></tr><tr><td>SE</td><td>3177</td></tr><tr><td>DF</td><td>1040</td></tr></table>"
      ],
      "text/plain": [
       "<IPython.core.display.HTML object>"
      ]
     },
     "metadata": {},
     "output_type": "display_data"
    },
    {
     "name": "stdout",
     "output_type": "stream",
     "text": [
      "Tempo de execução da consulta: 9.86 segundos\n",
      "Conexão com o SQLite fechada com sucesso.\n"
     ]
    }
   ],
   "source": [
    "# Conectar ao banco de dados SQLite\n",
    "conn = sqlite3.connect(db_path)\n",
    "cursor = conn.cursor()\n",
    "\n",
    "# Consulta SQL para calcular a média de todas as propriedades\n",
    "query_media = \"\"\"\n",
    "SELECT AVG(area_do_imovel) AS media_area\n",
    "FROM temas_ambientais;\n",
    "\"\"\"\n",
    "\n",
    "# Medir o tempo de execução da consulta\n",
    "tempo_inicio = time.time()\n",
    "\n",
    "# Executar a consulta para obter a média\n",
    "cursor.execute(query_media)\n",
    "media_area = cursor.fetchone()[0]\n",
    "\n",
    "# Consulta SQL para contar as propriedades por estado que estão acima da média\n",
    "query_acima_media = f\"\"\"\n",
    "SELECT uf, COUNT(*) AS total_acima_media\n",
    "FROM temas_ambientais\n",
    "WHERE area_do_imovel > {media_area}\n",
    "GROUP BY uf\n",
    "ORDER BY total_acima_media DESC;\n",
    "\"\"\"\n",
    "\n",
    "# Executar a consulta para obter as propriedades acima da média por estado\n",
    "cursor.execute(query_acima_media)\n",
    "resultados = cursor.fetchall()\n",
    "\n",
    "tempo_execucao = time.time() - tempo_inicio\n",
    "\n",
    "# Obter os nomes das colunas\n",
    "colunas = [description[0] for description in cursor.description]\n",
    "\n",
    "# Formatar os resultados como uma tabela HTML\n",
    "tabela_html = \"<table>\"\n",
    "tabela_html += \"<tr>\" + \"\".join([f\"<th>{col}</th>\" for col in colunas]) + \"</tr>\"\n",
    "for linha in resultados:\n",
    "    tabela_html += \"<tr>\" + \"\".join([f\"<td>{item}</td>\" for item in linha]) + \"</tr>\"\n",
    "tabela_html += \"</table>\"\n",
    "\n",
    "# Exibir a tabela HTML\n",
    "display(HTML(tabela_html))\n",
    "\n",
    "# Exibir o tempo de execução da consulta\n",
    "print(f\"Tempo de execução da consulta: {tempo_execucao:.2f} segundos\")\n",
    "\n",
    "# Fechar a conexão com o banco de dados SQLite\n",
    "conn.close()\n",
    "print(\"Conexão com o SQLite fechada com sucesso.\")\n"
   ]
  }
 ],
 "metadata": {
  "kernelspec": {
   "display_name": "venv",
   "language": "python",
   "name": "python3"
  },
  "language_info": {
   "codemirror_mode": {
    "name": "ipython",
    "version": 3
   },
   "file_extension": ".py",
   "mimetype": "text/x-python",
   "name": "python",
   "nbconvert_exporter": "python",
   "pygments_lexer": "ipython3",
   "version": "3.10.0"
  }
 },
 "nbformat": 4,
 "nbformat_minor": 2
}
